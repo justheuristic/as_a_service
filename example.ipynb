{
 "cells": [
  {
   "cell_type": "code",
   "execution_count": 1,
   "metadata": {},
   "outputs": [
    {
     "name": "stdout",
     "output_type": "stream",
     "text": [
      "env: CUDA_VISIBLE_DEVICES=3\n"
     ]
    }
   ],
   "source": [
    "import gym\n",
    "import numpy as np\n",
    "import torch, torch.nn as nn\n",
    "import torch.nn.functional as F\n",
    "from tqdm import trange\n",
    "\n",
    "my_agent = nn.Sequential(\n",
    "    nn.Linear(4, 1024), nn.ReLU(), \n",
    "    nn.Linear(1024, 1024), nn.ReLU(),\n",
    "    nn.Linear(1024, 2)\n",
    ").to(device='cuda')\n",
    "\n",
    "def play_a_game(predict_action_probs, steps=1000):\n",
    "    \"\"\" Agent-environment interaction loop. Assume that it's so complicated that you don't wanna change it. \"\"\"\n",
    "    env = gym.make(\"CartPole-v0\")\n",
    "    obs = env.reset()\n",
    "    total_reward = 0.0\n",
    "    for i in range(steps):\n",
    "        probs = predict_action_probs(obs)\n",
    "        action = np.random.random() > probs[0]\n",
    "        obs, r, done, _ = env.step(action)\n",
    "        total_reward += r\n",
    "        if done: obs = env.reset()\n",
    "    return total_reward\n"
   ]
  },
  {
   "cell_type": "markdown",
   "metadata": {},
   "source": [
    "### Naive approach\n",
    "\n",
    "Since running several custom threads in torch is ~~for masoch...~~ problematic, we gonna play one game at a time. \n",
    "\n",
    "This takes 1 CPU thread and GPU util for my old gtx __680m__ is __around 24%__."
   ]
  },
  {
   "cell_type": "code",
   "execution_count": 2,
   "metadata": {},
   "outputs": [],
   "source": [
    "def predict_action_probs(observation):\n",
    "    with torch.no_grad():\n",
    "        obs = torch.tensor(observation[None, :], dtype=torch.float32, device='cuda')\n",
    "        logits = my_agent(obs)\n",
    "        return F.softmax(logits, dim=-1).cpu().numpy()[0]"
   ]
  },
  {
   "cell_type": "code",
   "execution_count": 3,
   "metadata": {},
   "outputs": [
    {
     "name": "stderr",
     "output_type": "stream",
     "text": [
      "100%|██████████| 128/128 [00:44<00:00,  2.84it/s]"
     ]
    },
    {
     "name": "stdout",
     "output_type": "stream",
     "text": [
      "CPU times: user 44.8 s, sys: 220 ms, total: 45 s\n",
      "Wall time: 45 s\n"
     ]
    },
    {
     "name": "stderr",
     "output_type": "stream",
     "text": [
      "\n"
     ]
    }
   ],
   "source": [
    "%%time\n",
    "rewards = [play_a_game(predict_action_probs)\n",
    "           for i in trange(128)]"
   ]
  },
  {
   "cell_type": "markdown",
   "metadata": {},
   "source": [
    "### Batch-parallel approach\n",
    "\n",
    "Group several calls together and process them as a batch.\n",
    "\n",
    "__Note:__ despite using 64 threads this code only uses 3.5-4 CPU cores, most threads are waiting for GPU. Meanwhile, GPU util is __around 95%__"
   ]
  },
  {
   "cell_type": "code",
   "execution_count": 4,
   "metadata": {},
   "outputs": [],
   "source": [
    "import joblib\n",
    "from as_a_service import BatchedService\n",
    "def predict_action_probs_batch(observations):\n",
    "    with torch.no_grad():\n",
    "        obs = torch.tensor(observations, dtype=torch.float32, device='cuda')\n",
    "        logits = my_agent(obs)\n",
    "        return F.softmax(logits, dim=-1).cpu().numpy()\n",
    "\n",
    "predict_action_probs_service = BatchedService(predict_action_probs_batch, batch_size=64, max_delay=1e-3)"
   ]
  },
  {
   "cell_type": "code",
   "execution_count": 5,
   "metadata": {},
   "outputs": [
    {
     "data": {
      "text/plain": [
       "array([0.49511108, 0.50488895], dtype=float32)"
      ]
     },
     "execution_count": 5,
     "metadata": {},
     "output_type": "execute_result"
    }
   ],
   "source": [
    "# works just like naive function\n",
    "env = gym.make(\"CartPole-v0\")\n",
    "predict_action_probs_service(env.reset())"
   ]
  },
  {
   "cell_type": "code",
   "execution_count": 6,
   "metadata": {},
   "outputs": [
    {
     "name": "stdout",
     "output_type": "stream",
     "text": [
      "CPU times: user 12.8 s, sys: 1.46 s, total: 14.3 s\n",
      "Wall time: 11.6 s\n"
     ]
    }
   ],
   "source": [
    "%%time\n",
    "tasks = [joblib.delayed(play_a_game, check_pickle=False)(predict_action_probs_service)\n",
    "         for i in range(128)]\n",
    "\n",
    "rewards = joblib.Parallel(n_jobs=64, backend='threading')(tasks)"
   ]
  },
  {
   "cell_type": "markdown",
   "metadata": {},
   "source": [
    "### Same approach with decorators\n",
    "\n",
    "The code does exactly the same as above using decorators."
   ]
  },
  {
   "cell_type": "code",
   "execution_count": 7,
   "metadata": {},
   "outputs": [],
   "source": [
    "from as_a_service import as_batched_service\n",
    "@as_batched_service(batch_size=64, max_delay=1e-3)\n",
    "def predict_action_probs_service(observations):\n",
    "    with torch.no_grad():\n",
    "        obs = torch.tensor(observations, dtype=torch.float32, device='cuda')\n",
    "        logits = my_agent(obs)\n",
    "        return F.softmax(logits, dim=-1).cpu().numpy()"
   ]
  },
  {
   "cell_type": "code",
   "execution_count": 8,
   "metadata": {},
   "outputs": [
    {
     "name": "stdout",
     "output_type": "stream",
     "text": [
      "CPU times: user 12.7 s, sys: 1.56 s, total: 14.3 s\n",
      "Wall time: 11.7 s\n"
     ]
    }
   ],
   "source": [
    "%%time\n",
    "tasks = [joblib.delayed(play_a_game, check_pickle=False)(predict_action_probs_service)\n",
    "         for i in range(128)]\n",
    "\n",
    "rewards = joblib.Parallel(n_jobs=64, backend='threading')(tasks)"
   ]
  }
 ],
 "metadata": {
  "kernelspec": {
   "display_name": "Python 3",
   "language": "python",
   "name": "python3"
  },
  "language_info": {
   "codemirror_mode": {
    "name": "ipython",
    "version": 3
   },
   "file_extension": ".py",
   "mimetype": "text/x-python",
   "name": "python",
   "nbconvert_exporter": "python",
   "pygments_lexer": "ipython3",
   "version": "3.5.2"
  }
 },
 "nbformat": 4,
 "nbformat_minor": 2
}
