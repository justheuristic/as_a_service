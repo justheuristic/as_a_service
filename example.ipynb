{
 "cells": [
  {
   "cell_type": "markdown",
   "metadata": {},
   "source": [
    "# A small demo of background generator\n",
    "\n",
    "[should work in both python2 and python3]\n"
   ]
  },
  {
   "cell_type": "code",
   "execution_count": 1,
   "metadata": {
    "collapsed": false
   },
   "outputs": [
    {
     "name": "stdout",
     "output_type": "stream",
     "text": [
      "\n",
      "#based on http://stackoverflow.com/questions/7323664/python-generator-pre-fetch\n",
      "\n",
      "This is a single-function package that transforms arbitrary generator into a background-thead generator that prefetches several batches of data in a parallel background thead.\n",
      "\n",
      "This is useful if you have a computationally heavy process (CPU or GPU) that iteratively processes minibatches from the generator while the generator consumes some other resource (disk IO / loading from database / more CPU if you have unused cores). \n",
      "\n",
      "By default these two processes will constantly wait for one another to finish. If you make generator work in prefetch mode (see examples below), they will work in parallel, potentially saving you your GPU time.\n",
      "\n",
      "We personally use the prefetch generator when iterating minibatches of data for deep learning with tensorflow and theano ( lasagne, blocks, raw, etc.).\n",
      "\n",
      "This package contains two objects\n",
      " - BackgroundGenerator(any_other_generator[,max_prefetch = something])\n",
      " - @background([max_prefetch=somethind]) decorator\n",
      "\n",
      "the usage is either\n",
      "\n",
      "#for batch in BackgroundGenerator(my_minibatch_iterator):\n",
      "#    doit()\n",
      "\n",
      "or\n",
      "\n",
      "#@background()\n",
      "#def iterate_minibatches(some_param):\n",
      "#    while True:\n",
      "#        X = read_heavy_file()\n",
      "#        X = do_helluva_math(X)\n",
      "#        y = wget_from_pornhub()\n",
      "#        do_pretty_much_anything()\n",
      "#        yield X_batch, y_batch\n",
      "\n",
      "\n",
      "More details are written in the BackgroundGenerator doc\n",
      "help(BackgroundGenerator)\n",
      "\n",
      "\n"
     ]
    }
   ],
   "source": [
    "from __future__ import print_function\n",
    "from prefetch_generator import BackgroundGenerator, background,__doc__\n",
    "\n",
    "print(__doc__)"
   ]
  },
  {
   "cell_type": "code",
   "execution_count": 2,
   "metadata": {
    "collapsed": false
   },
   "outputs": [],
   "source": [
    "###your super-mega data iterator\n",
    "import numpy as np\n",
    "import time\n",
    "\n",
    "def iterate_minibatches(n_batches, batch_size=10):\n",
    "    for b_i in range(n_batches):\n",
    "        time.sleep(0.1) #here it could read file or SQL-get or do some math\n",
    "        X = np.random.normal(size=[batch_size,20])\n",
    "        y = np.random.randint(0,2,size=batch_size)\n",
    "        yield X,y"
   ]
  },
  {
   "cell_type": "markdown",
   "metadata": {},
   "source": [
    "### regular mode"
   ]
  },
  {
   "cell_type": "code",
   "execution_count": 3,
   "metadata": {
    "collapsed": false
   },
   "outputs": [
    {
     "name": "stdout",
     "output_type": "stream",
     "text": [
      "/------------------------------------------ Progress Bar ------------------------------------------\\\n",
      "! ! ! ! ! ! ! ! ! ! ! ! ! ! ! ! ! ! ! ! ! ! ! ! ! ! ! ! ! ! ! ! ! ! ! ! ! ! ! ! ! ! ! ! ! ! ! ! ! ! \n",
      "CPU times: user 100 ms, sys: 20 ms, total: 120 ms\n",
      "Wall time: 10.1 s\n"
     ]
    }
   ],
   "source": [
    "%%time\n",
    "\n",
    "#tqdm made in china\n",
    "print('/'+'-'*42+' Progress Bar ' + '-'*42 + '\\\\')\n",
    "\n",
    "for b_x,b_y in iterate_minibatches(50):\n",
    "    #training\n",
    "    time.sleep(0.1) #here it could use GPU for example\n",
    "    print('!',end=\" \")\n",
    "    \n",
    "print()"
   ]
  },
  {
   "cell_type": "markdown",
   "metadata": {},
   "source": [
    "### with prefetch"
   ]
  },
  {
   "cell_type": "code",
   "execution_count": 4,
   "metadata": {
    "collapsed": false
   },
   "outputs": [
    {
     "name": "stdout",
     "output_type": "stream",
     "text": [
      "/------------------------------------------ Progress Bar ------------------------------------------\\\n",
      "! ! ! ! ! ! ! ! ! ! ! ! ! ! ! ! ! ! ! ! ! ! ! ! ! ! ! ! ! ! ! ! ! ! ! ! ! ! ! ! ! ! ! ! ! ! ! ! ! ! \n",
      "CPU times: user 68 ms, sys: 16 ms, total: 84 ms\n",
      "Wall time: 5.14 s\n"
     ]
    }
   ],
   "source": [
    "%%time\n",
    "\n",
    "print('/'+'-'*42+' Progress Bar ' + '-'*42 + '\\\\')\n",
    "\n",
    "for b_x,b_y in BackgroundGenerator(iterate_minibatches(50)):\n",
    "    #training\n",
    "    time.sleep(0.1) #here it could use some GPU\n",
    "    print('!',end=\" \")\n",
    "print()"
   ]
  },
  {
   "cell_type": "markdown",
   "metadata": {},
   "source": [
    "### Same with decorator"
   ]
  },
  {
   "cell_type": "code",
   "execution_count": 5,
   "metadata": {
    "collapsed": true
   },
   "outputs": [],
   "source": [
    "###your super-mega data iterator again, now with background decorator\n",
    "import numpy as np\n",
    "import time\n",
    "\n",
    "@background(max_prefetch=3)\n",
    "def bg_iterate_minibatches(n_batches, batch_size=10):\n",
    "    for b_i in range(n_batches):\n",
    "        time.sleep(0.1) #here it could read file or SQL-get or do some math\n",
    "        X = np.random.normal(size=[batch_size,20])\n",
    "        y = np.random.randint(0,2,size=batch_size)\n",
    "        yield X,y\n"
   ]
  },
  {
   "cell_type": "code",
   "execution_count": 6,
   "metadata": {
    "collapsed": false
   },
   "outputs": [
    {
     "name": "stdout",
     "output_type": "stream",
     "text": [
      "/------------------------------------------ Progress Bar ------------------------------------------\\\n",
      "! ! ! ! ! ! ! ! ! ! ! ! ! ! ! ! ! ! ! ! ! ! ! ! ! ! ! ! ! ! ! ! ! ! ! ! ! ! ! ! ! ! ! ! ! ! ! ! ! ! \n",
      "CPU times: user 56 ms, sys: 20 ms, total: 76 ms\n",
      "Wall time: 5.14 s\n"
     ]
    }
   ],
   "source": [
    "%%time\n",
    "\n",
    "print('/'+'-'*42+' Progress Bar ' + '-'*42 + '\\\\')\n",
    "\n",
    "for b_x,b_y in bg_iterate_minibatches(50):\n",
    "    #training\n",
    "    time.sleep(0.1)#you guessed it\n",
    "    print('!',end=\" \")\n",
    "print()"
   ]
  },
  {
   "cell_type": "code",
   "execution_count": null,
   "metadata": {
    "collapsed": true
   },
   "outputs": [],
   "source": []
  }
 ],
 "metadata": {
  "kernelspec": {
   "display_name": "Python [Root]",
   "language": "python",
   "name": "Python [Root]"
  },
  "language_info": {
   "codemirror_mode": {
    "name": "ipython",
    "version": 2
   },
   "file_extension": ".py",
   "mimetype": "text/x-python",
   "name": "python",
   "nbconvert_exporter": "python",
   "pygments_lexer": "ipython2",
   "version": "2.7.12"
  }
 },
 "nbformat": 4,
 "nbformat_minor": 0
}
